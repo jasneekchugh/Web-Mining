{
 "cells": [
  {
   "cell_type": "markdown",
   "metadata": {},
   "source": [
    "This is a data analysis and data visualisation project using data from TV MAZE API. The purpose of this project is to analyse the TV shows and their respective data, to produce useful and meaningful visualisations and insights.\n",
    "For this analysis, I extracted the list of TV shows along with their types, languages, genres, premier date, networks and ratings. I will be using these features to carryout meaningful analysis."
   ]
  },
  {
   "cell_type": "markdown",
   "metadata": {},
   "source": [
    "## Retrieving data \n",
    "\n"
   ]
  },
  {
   "cell_type": "markdown",
   "metadata": {},
   "source": [
    "#### Importing the required libraries "
   ]
  },
  {
   "cell_type": "code",
   "execution_count": 54,
   "metadata": {},
   "outputs": [],
   "source": [
    "import requests\n",
    "import json\n",
    "import pandas as pd\n",
    "import ast\n",
    "import matplotlib\n",
    "import matplotlib.pyplot as plt\n",
    "\n",
    "%matplotlib inline\n"
   ]
  },
  {
   "cell_type": "markdown",
   "metadata": {},
   "source": [
    "**<font color='Red'>Identifying the suitable API</font>**\n",
    "\n",
    "\n",
    "A single is chosen for this assignment. The API is provided by **http://www.tvmaze.com/**\n",
    "\n",
    "TVMAZE provides a REST API that returns a JSON.\n",
    "\n",
    "API calls are rate limited to allow at least 20 calls every 10 seconds per IP address. If the rate is exceeded, we might get HTTP 429 error.\n",
    "\n",
    "Using python's request library. We are using the GET method, to retrieve data from a specific resource.\n",
    "\n",
    "\n",
    "TV Maze API - **http://api.tvmaze.com/shows**\n",
    "\n",
    "Retrieveing the data using the API."
   ]
  },
  {
   "cell_type": "markdown",
   "metadata": {},
   "source": [
    "##### **<font color='Red'>Data Collection</font>**\n",
    "\n",
    "**data_request** function is used to collect the data from the API as JSON and the converted in a dataframe using pandas. The dataframe is saved as a CSV file using pandas.\n",
    "\n"
   ]
  },
  {
   "cell_type": "code",
   "execution_count": 60,
   "metadata": {},
   "outputs": [],
   "source": [
    "#function to call the API, retreive the csv data, and write to a file\n",
    "\n",
    "def data_request(link):\n",
    "    \n",
    "    result = requests.get(link)\n",
    "    result.status_code\n",
    "    if result.status_code == 200:\n",
    "        data = result.json()\n",
    "        print(\"\\n Data is retrieved sucessfully. \\n\")\n",
    "        \n",
    "        df = pd.DataFrame.from_records(data)\n",
    "        df.to_csv('tvmazedata.csv', encoding='utf-8', index=False) \n",
    "        print(df.head())\n",
    "    else:\n",
    "        print(\"\\n ERROR\")"
   ]
  },
  {
   "cell_type": "code",
   "execution_count": 61,
   "metadata": {},
   "outputs": [
    {
     "name": "stdout",
     "output_type": "stream",
     "text": [
      "\n",
      " Data is retrieved sucessfully. \n",
      "\n",
      "   id                                               url                name  \\\n",
      "0   1      http://www.tvmaze.com/shows/1/under-the-dome      Under the Dome   \n",
      "1   2  http://www.tvmaze.com/shows/2/person-of-interest  Person of Interest   \n",
      "2   3              http://www.tvmaze.com/shows/3/bitten              Bitten   \n",
      "3   4               http://www.tvmaze.com/shows/4/arrow               Arrow   \n",
      "4   5      http://www.tvmaze.com/shows/5/true-detective      True Detective   \n",
      "\n",
      "       type language                              genres            status  \\\n",
      "0  Scripted  English  [Drama, Science-Fiction, Thriller]             Ended   \n",
      "1  Scripted  English    [Action, Crime, Science-Fiction]             Ended   \n",
      "2  Scripted  English            [Drama, Horror, Romance]             Ended   \n",
      "3  Scripted  English    [Drama, Action, Science-Fiction]             Ended   \n",
      "4  Scripted  English            [Drama, Crime, Thriller]  To Be Determined   \n",
      "\n",
      "   runtime   premiered                                  officialSite  \\\n",
      "0     60.0  2013-06-24      http://www.cbs.com/shows/under-the-dome/   \n",
      "1     60.0  2011-09-22  http://www.cbs.com/shows/person_of_interest/   \n",
      "2     60.0  2014-01-11                       http://bitten.space.ca/   \n",
      "3     60.0  2012-10-10               http://www.cwtv.com/shows/arrow   \n",
      "4     60.0  2014-01-12             http://www.hbo.com/true-detective   \n",
      "\n",
      "                                  schedule            rating  weight  \\\n",
      "0  {'time': '22:00', 'days': ['Thursday']}  {'average': 6.5}      97   \n",
      "1   {'time': '22:00', 'days': ['Tuesday']}  {'average': 8.9}      95   \n",
      "2    {'time': '22:00', 'days': ['Friday']}  {'average': 7.5}      88   \n",
      "3   {'time': '21:00', 'days': ['Tuesday']}  {'average': 7.4}      98   \n",
      "4    {'time': '21:00', 'days': ['Sunday']}  {'average': 8.3}      97   \n",
      "\n",
      "                                             network webChannel  \\\n",
      "0  {'id': 2, 'name': 'CBS', 'country': {'name': '...       None   \n",
      "1  {'id': 2, 'name': 'CBS', 'country': {'name': '...       None   \n",
      "2  {'id': 7, 'name': 'CTV Sci-Fi Channel', 'count...       None   \n",
      "3  {'id': 5, 'name': 'The CW', 'country': {'name'...       None   \n",
      "4  {'id': 8, 'name': 'HBO', 'country': {'name': '...       None   \n",
      "\n",
      "                                           externals  \\\n",
      "0  {'tvrage': 25988, 'thetvdb': 264492, 'imdb': '...   \n",
      "1  {'tvrage': 28376, 'thetvdb': 248742, 'imdb': '...   \n",
      "2  {'tvrage': 34965, 'thetvdb': 269550, 'imdb': '...   \n",
      "3  {'tvrage': 30715, 'thetvdb': 257655, 'imdb': '...   \n",
      "4  {'tvrage': 31369, 'thetvdb': 270633, 'imdb': '...   \n",
      "\n",
      "                                               image  \\\n",
      "0  {'medium': 'http://static.tvmaze.com/uploads/i...   \n",
      "1  {'medium': 'http://static.tvmaze.com/uploads/i...   \n",
      "2  {'medium': 'http://static.tvmaze.com/uploads/i...   \n",
      "3  {'medium': 'http://static.tvmaze.com/uploads/i...   \n",
      "4  {'medium': 'http://static.tvmaze.com/uploads/i...   \n",
      "\n",
      "                                             summary     updated  \\\n",
      "0  <p><b>Under the Dome</b> is the story of a sma...  1573667713   \n",
      "1  <p>You are being watched. The government has a...  1588773151   \n",
      "2  <p>Based on the critically acclaimed series of...  1603936716   \n",
      "3  <p>After a violent shipwreck, billionaire play...  1610268322   \n",
      "4  <p>Touch darkness and darkness touches you bac...  1612060351   \n",
      "\n",
      "                                              _links  \n",
      "0  {'self': {'href': 'http://api.tvmaze.com/shows...  \n",
      "1  {'self': {'href': 'http://api.tvmaze.com/shows...  \n",
      "2  {'self': {'href': 'http://api.tvmaze.com/shows...  \n",
      "3  {'self': {'href': 'http://api.tvmaze.com/shows...  \n",
      "4  {'self': {'href': 'http://api.tvmaze.com/shows...  \n"
     ]
    }
   ],
   "source": [
    "data_request(\"http://api.tvmaze.com/shows?format=json\")  #function call"
   ]
  },
  {
   "cell_type": "code",
   "execution_count": 57,
   "metadata": {},
   "outputs": [
    {
     "ename": "NameError",
     "evalue": "name 'df' is not defined",
     "output_type": "error",
     "traceback": [
      "\u001b[0;31m---------------------------------------------------------------------------\u001b[0m",
      "\u001b[0;31mNameError\u001b[0m                                 Traceback (most recent call last)",
      "\u001b[0;32m<ipython-input-57-00cf07b74dcd>\u001b[0m in \u001b[0;36m<module>\u001b[0;34m\u001b[0m\n\u001b[0;32m----> 1\u001b[0;31m \u001b[0mdf\u001b[0m\u001b[0;34m\u001b[0m\u001b[0;34m\u001b[0m\u001b[0m\n\u001b[0m",
      "\u001b[0;31mNameError\u001b[0m: name 'df' is not defined"
     ]
    }
   ],
   "source": []
  },
  {
   "cell_type": "markdown",
   "metadata": {},
   "source": [
    "## Loading the dataset\n",
    "\n",
    "Loading the CSV file,**\"tvmazedata.csv\"**, and displaying top 5 rows of the dataset.\n",
    "\n",
    "We will apply the necessary pre processing steps to clean and filter the dataset, so that it can be used for data analysis. "
   ]
  },
  {
   "cell_type": "code",
   "execution_count": 53,
   "metadata": {},
   "outputs": [
    {
     "data": {
      "text/html": [
       "<div>\n",
       "<style scoped>\n",
       "    .dataframe tbody tr th:only-of-type {\n",
       "        vertical-align: middle;\n",
       "    }\n",
       "\n",
       "    .dataframe tbody tr th {\n",
       "        vertical-align: top;\n",
       "    }\n",
       "\n",
       "    .dataframe thead th {\n",
       "        text-align: right;\n",
       "    }\n",
       "</style>\n",
       "<table border=\"1\" class=\"dataframe\">\n",
       "  <thead>\n",
       "    <tr style=\"text-align: right;\">\n",
       "      <th></th>\n",
       "      <th>id</th>\n",
       "      <th>url</th>\n",
       "      <th>name</th>\n",
       "      <th>type</th>\n",
       "      <th>language</th>\n",
       "      <th>genres</th>\n",
       "      <th>status</th>\n",
       "      <th>runtime</th>\n",
       "      <th>premiered</th>\n",
       "      <th>officialSite</th>\n",
       "      <th>schedule</th>\n",
       "      <th>rating</th>\n",
       "      <th>weight</th>\n",
       "      <th>network</th>\n",
       "      <th>webChannel</th>\n",
       "      <th>externals</th>\n",
       "      <th>image</th>\n",
       "      <th>summary</th>\n",
       "      <th>updated</th>\n",
       "      <th>_links</th>\n",
       "    </tr>\n",
       "  </thead>\n",
       "  <tbody>\n",
       "    <tr>\n",
       "      <th>0</th>\n",
       "      <td>1</td>\n",
       "      <td>http://www.tvmaze.com/shows/1/under-the-dome</td>\n",
       "      <td>Under the Dome</td>\n",
       "      <td>Scripted</td>\n",
       "      <td>English</td>\n",
       "      <td>['Drama', 'Science-Fiction', 'Thriller']</td>\n",
       "      <td>Ended</td>\n",
       "      <td>60.0</td>\n",
       "      <td>2013-06-24</td>\n",
       "      <td>http://www.cbs.com/shows/under-the-dome/</td>\n",
       "      <td>{'time': '22:00', 'days': ['Thursday']}</td>\n",
       "      <td>{'average': 6.5}</td>\n",
       "      <td>97</td>\n",
       "      <td>{'id': 2, 'name': 'CBS', 'country': {'name': '...</td>\n",
       "      <td>NaN</td>\n",
       "      <td>{'tvrage': 25988, 'thetvdb': 264492, 'imdb': '...</td>\n",
       "      <td>{'medium': 'http://static.tvmaze.com/uploads/i...</td>\n",
       "      <td>&lt;p&gt;&lt;b&gt;Under the Dome&lt;/b&gt; is the story of a sma...</td>\n",
       "      <td>1573667713</td>\n",
       "      <td>{'self': {'href': 'http://api.tvmaze.com/shows...</td>\n",
       "    </tr>\n",
       "    <tr>\n",
       "      <th>1</th>\n",
       "      <td>2</td>\n",
       "      <td>http://www.tvmaze.com/shows/2/person-of-interest</td>\n",
       "      <td>Person of Interest</td>\n",
       "      <td>Scripted</td>\n",
       "      <td>English</td>\n",
       "      <td>['Action', 'Crime', 'Science-Fiction']</td>\n",
       "      <td>Ended</td>\n",
       "      <td>60.0</td>\n",
       "      <td>2011-09-22</td>\n",
       "      <td>http://www.cbs.com/shows/person_of_interest/</td>\n",
       "      <td>{'time': '22:00', 'days': ['Tuesday']}</td>\n",
       "      <td>{'average': 8.9}</td>\n",
       "      <td>95</td>\n",
       "      <td>{'id': 2, 'name': 'CBS', 'country': {'name': '...</td>\n",
       "      <td>NaN</td>\n",
       "      <td>{'tvrage': 28376, 'thetvdb': 248742, 'imdb': '...</td>\n",
       "      <td>{'medium': 'http://static.tvmaze.com/uploads/i...</td>\n",
       "      <td>&lt;p&gt;You are being watched. The government has a...</td>\n",
       "      <td>1588773151</td>\n",
       "      <td>{'self': {'href': 'http://api.tvmaze.com/shows...</td>\n",
       "    </tr>\n",
       "    <tr>\n",
       "      <th>2</th>\n",
       "      <td>3</td>\n",
       "      <td>http://www.tvmaze.com/shows/3/bitten</td>\n",
       "      <td>Bitten</td>\n",
       "      <td>Scripted</td>\n",
       "      <td>English</td>\n",
       "      <td>['Drama', 'Horror', 'Romance']</td>\n",
       "      <td>Ended</td>\n",
       "      <td>60.0</td>\n",
       "      <td>2014-01-11</td>\n",
       "      <td>http://bitten.space.ca/</td>\n",
       "      <td>{'time': '22:00', 'days': ['Friday']}</td>\n",
       "      <td>{'average': 7.5}</td>\n",
       "      <td>88</td>\n",
       "      <td>{'id': 7, 'name': 'CTV Sci-Fi Channel', 'count...</td>\n",
       "      <td>NaN</td>\n",
       "      <td>{'tvrage': 34965, 'thetvdb': 269550, 'imdb': '...</td>\n",
       "      <td>{'medium': 'http://static.tvmaze.com/uploads/i...</td>\n",
       "      <td>&lt;p&gt;Based on the critically acclaimed series of...</td>\n",
       "      <td>1603936716</td>\n",
       "      <td>{'self': {'href': 'http://api.tvmaze.com/shows...</td>\n",
       "    </tr>\n",
       "    <tr>\n",
       "      <th>3</th>\n",
       "      <td>4</td>\n",
       "      <td>http://www.tvmaze.com/shows/4/arrow</td>\n",
       "      <td>Arrow</td>\n",
       "      <td>Scripted</td>\n",
       "      <td>English</td>\n",
       "      <td>['Drama', 'Action', 'Science-Fiction']</td>\n",
       "      <td>Ended</td>\n",
       "      <td>60.0</td>\n",
       "      <td>2012-10-10</td>\n",
       "      <td>http://www.cwtv.com/shows/arrow</td>\n",
       "      <td>{'time': '21:00', 'days': ['Tuesday']}</td>\n",
       "      <td>{'average': 7.4}</td>\n",
       "      <td>98</td>\n",
       "      <td>{'id': 5, 'name': 'The CW', 'country': {'name'...</td>\n",
       "      <td>NaN</td>\n",
       "      <td>{'tvrage': 30715, 'thetvdb': 257655, 'imdb': '...</td>\n",
       "      <td>{'medium': 'http://static.tvmaze.com/uploads/i...</td>\n",
       "      <td>&lt;p&gt;After a violent shipwreck, billionaire play...</td>\n",
       "      <td>1610268322</td>\n",
       "      <td>{'self': {'href': 'http://api.tvmaze.com/shows...</td>\n",
       "    </tr>\n",
       "    <tr>\n",
       "      <th>4</th>\n",
       "      <td>5</td>\n",
       "      <td>http://www.tvmaze.com/shows/5/true-detective</td>\n",
       "      <td>True Detective</td>\n",
       "      <td>Scripted</td>\n",
       "      <td>English</td>\n",
       "      <td>['Drama', 'Crime', 'Thriller']</td>\n",
       "      <td>To Be Determined</td>\n",
       "      <td>60.0</td>\n",
       "      <td>2014-01-12</td>\n",
       "      <td>http://www.hbo.com/true-detective</td>\n",
       "      <td>{'time': '21:00', 'days': ['Sunday']}</td>\n",
       "      <td>{'average': 8.3}</td>\n",
       "      <td>97</td>\n",
       "      <td>{'id': 8, 'name': 'HBO', 'country': {'name': '...</td>\n",
       "      <td>NaN</td>\n",
       "      <td>{'tvrage': 31369, 'thetvdb': 270633, 'imdb': '...</td>\n",
       "      <td>{'medium': 'http://static.tvmaze.com/uploads/i...</td>\n",
       "      <td>&lt;p&gt;Touch darkness and darkness touches you bac...</td>\n",
       "      <td>1612060351</td>\n",
       "      <td>{'self': {'href': 'http://api.tvmaze.com/shows...</td>\n",
       "    </tr>\n",
       "  </tbody>\n",
       "</table>\n",
       "</div>"
      ],
      "text/plain": [
       "   id                                               url                name  \\\n",
       "0   1      http://www.tvmaze.com/shows/1/under-the-dome      Under the Dome   \n",
       "1   2  http://www.tvmaze.com/shows/2/person-of-interest  Person of Interest   \n",
       "2   3              http://www.tvmaze.com/shows/3/bitten              Bitten   \n",
       "3   4               http://www.tvmaze.com/shows/4/arrow               Arrow   \n",
       "4   5      http://www.tvmaze.com/shows/5/true-detective      True Detective   \n",
       "\n",
       "       type language                                    genres  \\\n",
       "0  Scripted  English  ['Drama', 'Science-Fiction', 'Thriller']   \n",
       "1  Scripted  English    ['Action', 'Crime', 'Science-Fiction']   \n",
       "2  Scripted  English            ['Drama', 'Horror', 'Romance']   \n",
       "3  Scripted  English    ['Drama', 'Action', 'Science-Fiction']   \n",
       "4  Scripted  English            ['Drama', 'Crime', 'Thriller']   \n",
       "\n",
       "             status  runtime   premiered  \\\n",
       "0             Ended     60.0  2013-06-24   \n",
       "1             Ended     60.0  2011-09-22   \n",
       "2             Ended     60.0  2014-01-11   \n",
       "3             Ended     60.0  2012-10-10   \n",
       "4  To Be Determined     60.0  2014-01-12   \n",
       "\n",
       "                                   officialSite  \\\n",
       "0      http://www.cbs.com/shows/under-the-dome/   \n",
       "1  http://www.cbs.com/shows/person_of_interest/   \n",
       "2                       http://bitten.space.ca/   \n",
       "3               http://www.cwtv.com/shows/arrow   \n",
       "4             http://www.hbo.com/true-detective   \n",
       "\n",
       "                                  schedule            rating  weight  \\\n",
       "0  {'time': '22:00', 'days': ['Thursday']}  {'average': 6.5}      97   \n",
       "1   {'time': '22:00', 'days': ['Tuesday']}  {'average': 8.9}      95   \n",
       "2    {'time': '22:00', 'days': ['Friday']}  {'average': 7.5}      88   \n",
       "3   {'time': '21:00', 'days': ['Tuesday']}  {'average': 7.4}      98   \n",
       "4    {'time': '21:00', 'days': ['Sunday']}  {'average': 8.3}      97   \n",
       "\n",
       "                                             network webChannel  \\\n",
       "0  {'id': 2, 'name': 'CBS', 'country': {'name': '...        NaN   \n",
       "1  {'id': 2, 'name': 'CBS', 'country': {'name': '...        NaN   \n",
       "2  {'id': 7, 'name': 'CTV Sci-Fi Channel', 'count...        NaN   \n",
       "3  {'id': 5, 'name': 'The CW', 'country': {'name'...        NaN   \n",
       "4  {'id': 8, 'name': 'HBO', 'country': {'name': '...        NaN   \n",
       "\n",
       "                                           externals  \\\n",
       "0  {'tvrage': 25988, 'thetvdb': 264492, 'imdb': '...   \n",
       "1  {'tvrage': 28376, 'thetvdb': 248742, 'imdb': '...   \n",
       "2  {'tvrage': 34965, 'thetvdb': 269550, 'imdb': '...   \n",
       "3  {'tvrage': 30715, 'thetvdb': 257655, 'imdb': '...   \n",
       "4  {'tvrage': 31369, 'thetvdb': 270633, 'imdb': '...   \n",
       "\n",
       "                                               image  \\\n",
       "0  {'medium': 'http://static.tvmaze.com/uploads/i...   \n",
       "1  {'medium': 'http://static.tvmaze.com/uploads/i...   \n",
       "2  {'medium': 'http://static.tvmaze.com/uploads/i...   \n",
       "3  {'medium': 'http://static.tvmaze.com/uploads/i...   \n",
       "4  {'medium': 'http://static.tvmaze.com/uploads/i...   \n",
       "\n",
       "                                             summary     updated  \\\n",
       "0  <p><b>Under the Dome</b> is the story of a sma...  1573667713   \n",
       "1  <p>You are being watched. The government has a...  1588773151   \n",
       "2  <p>Based on the critically acclaimed series of...  1603936716   \n",
       "3  <p>After a violent shipwreck, billionaire play...  1610268322   \n",
       "4  <p>Touch darkness and darkness touches you bac...  1612060351   \n",
       "\n",
       "                                              _links  \n",
       "0  {'self': {'href': 'http://api.tvmaze.com/shows...  \n",
       "1  {'self': {'href': 'http://api.tvmaze.com/shows...  \n",
       "2  {'self': {'href': 'http://api.tvmaze.com/shows...  \n",
       "3  {'self': {'href': 'http://api.tvmaze.com/shows...  \n",
       "4  {'self': {'href': 'http://api.tvmaze.com/shows...  "
      ]
     },
     "execution_count": 53,
     "metadata": {},
     "output_type": "execute_result"
    }
   ],
   "source": [
    "df1 = pd.read_csv('tvmazedata.csv', index_col=False)  \n",
    "df1.head(5) "
   ]
  },
  {
   "cell_type": "code",
   "execution_count": 63,
   "metadata": {},
   "outputs": [
    {
     "data": {
      "text/plain": [
       "(240, 20)"
      ]
     },
     "execution_count": 63,
     "metadata": {},
     "output_type": "execute_result"
    }
   ],
   "source": [
    "df1.shape"
   ]
  },
  {
   "cell_type": "markdown",
   "metadata": {},
   "source": [
    "## Data Pre-Processing \n",
    "\n",
    "The following code is used to clean and filter the data. This data will be used futher for data analysis.\n",
    "\n",
    "**<font color='red'>Dropping the columns that are not required:</font>**\n",
    "\n",
    "There are 20 columns in the dataset. The columns that are not required will be dropped from the dataset.\n",
    "\n",
    "\n",
    "Dropping these columns, **'id', 'url', 'officialSite', 'schedule', 'webChannel', '_links', 'image', 'weight', 'updated', 'webChannel', 'externals', 'summary'**, as they will not be required for data analysis."
   ]
  },
  {
   "cell_type": "code",
   "execution_count": 64,
   "metadata": {},
   "outputs": [
    {
     "data": {
      "text/html": [
       "<div>\n",
       "<style scoped>\n",
       "    .dataframe tbody tr th:only-of-type {\n",
       "        vertical-align: middle;\n",
       "    }\n",
       "\n",
       "    .dataframe tbody tr th {\n",
       "        vertical-align: top;\n",
       "    }\n",
       "\n",
       "    .dataframe thead th {\n",
       "        text-align: right;\n",
       "    }\n",
       "</style>\n",
       "<table border=\"1\" class=\"dataframe\">\n",
       "  <thead>\n",
       "    <tr style=\"text-align: right;\">\n",
       "      <th></th>\n",
       "      <th>name</th>\n",
       "      <th>type</th>\n",
       "      <th>language</th>\n",
       "      <th>genres</th>\n",
       "      <th>status</th>\n",
       "      <th>runtime</th>\n",
       "      <th>premiered</th>\n",
       "      <th>rating</th>\n",
       "      <th>network</th>\n",
       "    </tr>\n",
       "  </thead>\n",
       "  <tbody>\n",
       "    <tr>\n",
       "      <th>0</th>\n",
       "      <td>Under the Dome</td>\n",
       "      <td>Scripted</td>\n",
       "      <td>English</td>\n",
       "      <td>['Drama', 'Science-Fiction', 'Thriller']</td>\n",
       "      <td>Ended</td>\n",
       "      <td>60.0</td>\n",
       "      <td>2013-06-24</td>\n",
       "      <td>{'average': 6.5}</td>\n",
       "      <td>{'id': 2, 'name': 'CBS', 'country': {'name': '...</td>\n",
       "    </tr>\n",
       "    <tr>\n",
       "      <th>1</th>\n",
       "      <td>Person of Interest</td>\n",
       "      <td>Scripted</td>\n",
       "      <td>English</td>\n",
       "      <td>['Action', 'Crime', 'Science-Fiction']</td>\n",
       "      <td>Ended</td>\n",
       "      <td>60.0</td>\n",
       "      <td>2011-09-22</td>\n",
       "      <td>{'average': 8.9}</td>\n",
       "      <td>{'id': 2, 'name': 'CBS', 'country': {'name': '...</td>\n",
       "    </tr>\n",
       "    <tr>\n",
       "      <th>2</th>\n",
       "      <td>Bitten</td>\n",
       "      <td>Scripted</td>\n",
       "      <td>English</td>\n",
       "      <td>['Drama', 'Horror', 'Romance']</td>\n",
       "      <td>Ended</td>\n",
       "      <td>60.0</td>\n",
       "      <td>2014-01-11</td>\n",
       "      <td>{'average': 7.5}</td>\n",
       "      <td>{'id': 7, 'name': 'CTV Sci-Fi Channel', 'count...</td>\n",
       "    </tr>\n",
       "    <tr>\n",
       "      <th>3</th>\n",
       "      <td>Arrow</td>\n",
       "      <td>Scripted</td>\n",
       "      <td>English</td>\n",
       "      <td>['Drama', 'Action', 'Science-Fiction']</td>\n",
       "      <td>Ended</td>\n",
       "      <td>60.0</td>\n",
       "      <td>2012-10-10</td>\n",
       "      <td>{'average': 7.4}</td>\n",
       "      <td>{'id': 5, 'name': 'The CW', 'country': {'name'...</td>\n",
       "    </tr>\n",
       "    <tr>\n",
       "      <th>4</th>\n",
       "      <td>True Detective</td>\n",
       "      <td>Scripted</td>\n",
       "      <td>English</td>\n",
       "      <td>['Drama', 'Crime', 'Thriller']</td>\n",
       "      <td>To Be Determined</td>\n",
       "      <td>60.0</td>\n",
       "      <td>2014-01-12</td>\n",
       "      <td>{'average': 8.3}</td>\n",
       "      <td>{'id': 8, 'name': 'HBO', 'country': {'name': '...</td>\n",
       "    </tr>\n",
       "  </tbody>\n",
       "</table>\n",
       "</div>"
      ],
      "text/plain": [
       "                 name      type language  \\\n",
       "0      Under the Dome  Scripted  English   \n",
       "1  Person of Interest  Scripted  English   \n",
       "2              Bitten  Scripted  English   \n",
       "3               Arrow  Scripted  English   \n",
       "4      True Detective  Scripted  English   \n",
       "\n",
       "                                     genres            status  runtime  \\\n",
       "0  ['Drama', 'Science-Fiction', 'Thriller']             Ended     60.0   \n",
       "1    ['Action', 'Crime', 'Science-Fiction']             Ended     60.0   \n",
       "2            ['Drama', 'Horror', 'Romance']             Ended     60.0   \n",
       "3    ['Drama', 'Action', 'Science-Fiction']             Ended     60.0   \n",
       "4            ['Drama', 'Crime', 'Thriller']  To Be Determined     60.0   \n",
       "\n",
       "    premiered            rating  \\\n",
       "0  2013-06-24  {'average': 6.5}   \n",
       "1  2011-09-22  {'average': 8.9}   \n",
       "2  2014-01-11  {'average': 7.5}   \n",
       "3  2012-10-10  {'average': 7.4}   \n",
       "4  2014-01-12  {'average': 8.3}   \n",
       "\n",
       "                                             network  \n",
       "0  {'id': 2, 'name': 'CBS', 'country': {'name': '...  \n",
       "1  {'id': 2, 'name': 'CBS', 'country': {'name': '...  \n",
       "2  {'id': 7, 'name': 'CTV Sci-Fi Channel', 'count...  \n",
       "3  {'id': 5, 'name': 'The CW', 'country': {'name'...  \n",
       "4  {'id': 8, 'name': 'HBO', 'country': {'name': '...  "
      ]
     },
     "execution_count": 64,
     "metadata": {},
     "output_type": "execute_result"
    }
   ],
   "source": [
    "df1.drop(['id', '_links', 'url', 'officialSite', 'externals', 'schedule', 'image', 'weight', 'updated', 'webChannel', 'summary', 'webChannel'], axis=1, inplace=True)\n",
    "df1.head()"
   ]
  },
  {
   "cell_type": "code",
   "execution_count": 65,
   "metadata": {},
   "outputs": [
    {
     "data": {
      "text/plain": [
       "(240, 9)"
      ]
     },
     "execution_count": 65,
     "metadata": {},
     "output_type": "execute_result"
    }
   ],
   "source": [
    "df1.shape"
   ]
  },
  {
   "cell_type": "markdown",
   "metadata": {},
   "source": [
    "The dataset now consists of 9 columns.\n",
    "\n",
    "- **\"rating\"** column conists of a dictionary that has a \"rating\" as the key. We will extract the value for the key and put it in a new column\n",
    "\n",
    "- Similarly, **\"network\"** column consists of a dictionary that has various key value pairs. We will extract the value of key \"name\" from the Dictionary and put it in a new columns. \n",
    "\n"
   ]
  },
  {
   "cell_type": "markdown",
   "metadata": {},
   "source": [
    "**<font color='Red'>Handling missing values:</font>**\n",
    "\n",
    "To look for columns that has missing values and fill it with appropriate values. \n",
    "\n"
   ]
  },
  {
   "cell_type": "code",
   "execution_count": 6,
   "metadata": {},
   "outputs": [
    {
     "data": {
      "text/plain": [
       "runtime    2\n",
       "network    7\n",
       "dtype: int64"
      ]
     },
     "execution_count": 6,
     "metadata": {},
     "output_type": "execute_result"
    }
   ],
   "source": [
    "null_columns=df1.columns[df1.isnull().any()]  "
   ]
  },
  {
   "cell_type": "markdown",
   "metadata": {},
   "source": [
    "The **\"network\"** column is a catagorical feature. It has 7 missing values. We don't know what the missing values can be, we will fill it with **{'name':'Others'}**. "
   ]
  },
  {
   "cell_type": "code",
   "execution_count": 7,
   "metadata": {},
   "outputs": [],
   "source": [
    "df1[\"network\"].fillna(\"{'name':'Others'}\", inplace = True) "
   ]
  },
  {
   "cell_type": "code",
   "execution_count": 8,
   "metadata": {},
   "outputs": [
    {
     "data": {
      "text/plain": [
       "name                           Hemlock Grove\n",
       "type                                Scripted\n",
       "language                             English\n",
       "genres       ['Drama', 'Horror', 'Thriller']\n",
       "status                                 Ended\n",
       "runtime                                  NaN\n",
       "premiered                         2013-04-19\n",
       "rating                        {'average': 7}\n",
       "network                    {'name':'Others'}\n",
       "Name: 31, dtype: object"
      ]
     },
     "execution_count": 8,
     "metadata": {},
     "output_type": "execute_result"
    }
   ],
   "source": [
    "df1.iloc[31]  #Checking if the values are updated"
   ]
  },
  {
   "cell_type": "markdown",
   "metadata": {},
   "source": [
    "The values in **\"network\"** column are in the form of a dictionary consisting of key value pairs.\n",
    "\n",
    "Extracting the value of key called \"name\" from the dictionary and putting it in a new column **\"Show_network\"**."
   ]
  },
  {
   "cell_type": "code",
   "execution_count": 9,
   "metadata": {},
   "outputs": [
    {
     "data": {
      "text/plain": [
       "0    {'id': 2, 'name': 'CBS', 'country': {'name': '...\n",
       "1    {'id': 2, 'name': 'CBS', 'country': {'name': '...\n",
       "2    {'id': 7, 'name': 'CTV Sci-Fi Channel', 'count...\n",
       "3    {'id': 5, 'name': 'The CW', 'country': {'name'...\n",
       "4    {'id': 8, 'name': 'HBO', 'country': {'name': '...\n",
       "Name: network, dtype: object"
      ]
     },
     "execution_count": 9,
     "metadata": {},
     "output_type": "execute_result"
    }
   ],
   "source": [
    "df1[\"network\"][:5]  #Displaying the network column"
   ]
  },
  {
   "cell_type": "markdown",
   "metadata": {},
   "source": [
    "The \"name\" key contains the name of the network of the shows. We will extract the value of this key and put it in a new column, **\"Show_network\"**"
   ]
  },
  {
   "cell_type": "code",
   "execution_count": 10,
   "metadata": {},
   "outputs": [],
   "source": [
    "net = []\n",
    "for i in df1.loc[0:][\"network\"]:\n",
    "    res = ast.literal_eval(i)\n",
    "    net.append(res[\"name\"])\n",
    "    \n",
    "df1[\"Show_network\"] = net      "
   ]
  },
  {
   "cell_type": "code",
   "execution_count": 11,
   "metadata": {},
   "outputs": [],
   "source": [
    "df1.drop('network', axis=1, inplace=True) #Dropping the \"network\" column"
   ]
  },
  {
   "cell_type": "code",
   "execution_count": 12,
   "metadata": {},
   "outputs": [
    {
     "data": {
      "text/plain": [
       "0                   CBS\n",
       "1                   CBS\n",
       "2    CTV Sci-Fi Channel\n",
       "3                The CW\n",
       "4                   HBO\n",
       "Name: Show_network, dtype: object"
      ]
     },
     "execution_count": 12,
     "metadata": {},
     "output_type": "execute_result"
    }
   ],
   "source": [
    "df1[\"Show_network\"][:5]"
   ]
  },
  {
   "cell_type": "markdown",
   "metadata": {},
   "source": [
    "**\"Show_network\"** column now consists of the names of networks for the shows."
   ]
  },
  {
   "cell_type": "markdown",
   "metadata": {},
   "source": [
    "Similarly, the values in **\"rating\"** column are in the form of a dictionary consisting of key value pair.\n",
    "\n",
    "Extracting the value of key called \"rating\" from the dictionary and putting it in a new column **\"Show_rating\"**."
   ]
  },
  {
   "cell_type": "code",
   "execution_count": 13,
   "metadata": {},
   "outputs": [
    {
     "data": {
      "text/plain": [
       "0    {'average': 6.5}\n",
       "1    {'average': 8.9}\n",
       "2    {'average': 7.5}\n",
       "3    {'average': 7.4}\n",
       "4    {'average': 8.3}\n",
       "Name: rating, dtype: object"
      ]
     },
     "execution_count": 13,
     "metadata": {},
     "output_type": "execute_result"
    }
   ],
   "source": [
    "df1[\"rating\"][:5]  #Displaying the rating column"
   ]
  },
  {
   "cell_type": "markdown",
   "metadata": {},
   "source": [
    "The \"rating\" key consists of the rating for the shows. We will extract the value of this key and put it in a new column, **\"Show_rating\"**."
   ]
  },
  {
   "cell_type": "code",
   "execution_count": 14,
   "metadata": {},
   "outputs": [],
   "source": [
    "net_2 = []\n",
    "for i in df1.loc[0:][\"rating\"]:\n",
    "    res_2 = ast.literal_eval(i)\n",
    "    net_2.append(res_2[\"average\"])\n",
    "df1[\"Show_rating\"] = net_2"
   ]
  },
  {
   "cell_type": "code",
   "execution_count": 15,
   "metadata": {},
   "outputs": [
    {
     "data": {
      "text/plain": [
       "0    6.5\n",
       "1    8.9\n",
       "2    7.5\n",
       "3    7.4\n",
       "4    8.3\n",
       "Name: Show_rating, dtype: float64"
      ]
     },
     "execution_count": 15,
     "metadata": {},
     "output_type": "execute_result"
    }
   ],
   "source": [
    "df1[\"Show_rating\"][:5]"
   ]
  },
  {
   "cell_type": "markdown",
   "metadata": {},
   "source": [
    "**\"Show_rating\"** column now consists of the rating for the shows."
   ]
  },
  {
   "cell_type": "code",
   "execution_count": 16,
   "metadata": {},
   "outputs": [],
   "source": [
    "df1.drop('rating', axis=1, inplace =True) #Dropping the column"
   ]
  },
  {
   "cell_type": "markdown",
   "metadata": {},
   "source": [
    "Getting the count of missing values in the column **\"Show_rating\"**."
   ]
  },
  {
   "cell_type": "code",
   "execution_count": 17,
   "metadata": {},
   "outputs": [
    {
     "data": {
      "text/plain": [
       "runtime        2\n",
       "Show_rating    5\n",
       "dtype: int64"
      ]
     },
     "execution_count": 17,
     "metadata": {},
     "output_type": "execute_result"
    }
   ],
   "source": [
    "null_columns=df1.columns[df1.isnull().any()]  #To check which column has null values. Also getting the count\n",
    "df1[null_columns].isnull().sum()"
   ]
  },
  {
   "cell_type": "markdown",
   "metadata": {},
   "source": [
    "There are 6 missing values in the column **\"rating\"**. We will calculate the average of all the ratings in the column, and fill the missing values."
   ]
  },
  {
   "cell_type": "code",
   "execution_count": 18,
   "metadata": {},
   "outputs": [],
   "source": [
    "avg = round(df1[\"Show_rating\"].mean(), 2)  #Calculating the average of all ratings\n",
    "df1[\"Show_rating\"].fillna(avg, inplace = True) "
   ]
  },
  {
   "cell_type": "markdown",
   "metadata": {},
   "source": [
    "Filled the missing values with the average of all the rating in the column."
   ]
  },
  {
   "cell_type": "markdown",
   "metadata": {},
   "source": [
    "**<font color='Red'>Futher Data Modification:</font>**\n",
    "\n",
    "- The column **\"Show_Raing\"** consists of floating point numbers.\n",
    "- For analysis purposes, we will round off the values and store it in a new column."
   ]
  },
  {
   "cell_type": "markdown",
   "metadata": {},
   "source": [
    "\n",
    "Rounding off the values in **\"Show_rating\"** column and putting the values in a new column, **\"Show_rating_round\"**."
   ]
  },
  {
   "cell_type": "code",
   "execution_count": 19,
   "metadata": {},
   "outputs": [],
   "source": [
    "df1[\"Show_rating_round\"] = df1[\"Show_rating\"].round()"
   ]
  },
  {
   "cell_type": "code",
   "execution_count": 20,
   "metadata": {},
   "outputs": [],
   "source": [
    "df1.drop('Show_rating', axis=1, inplace=True)  #Dropping the column"
   ]
  },
  {
   "cell_type": "markdown",
   "metadata": {},
   "source": [
    "The column **\"genres\"** has **\"[ ]\"** as values. \n",
    "\n",
    "Replacing **\"[ ]\"** with **\"['Others']\"** in **\"genres\"** columns."
   ]
  },
  {
   "cell_type": "code",
   "execution_count": 21,
   "metadata": {},
   "outputs": [],
   "source": [
    "df1[\"genres\"].replace({\"[]\": \"['Others']\",}, inplace=True)"
   ]
  },
  {
   "cell_type": "code",
   "execution_count": 22,
   "metadata": {},
   "outputs": [
    {
     "data": {
      "text/plain": [
       "name                 America's Next Top Model\n",
       "type                                  Reality\n",
       "language                              English\n",
       "genres                             ['Others']\n",
       "status                                  Ended\n",
       "runtime                                    60\n",
       "premiered                          2003-05-20\n",
       "Show_network                              VH1\n",
       "Show_rating_round                           6\n",
       "Name: 95, dtype: object"
      ]
     },
     "execution_count": 22,
     "metadata": {},
     "output_type": "execute_result"
    }
   ],
   "source": [
    "df1.iloc[95]  #Checking if the value is updated"
   ]
  },
  {
   "cell_type": "markdown",
   "metadata": {},
   "source": [
    "The column **\"premiered\"** consists of dates when the shows was premiered. The values are string.\n",
    "\n",
    "We will convert the convert string date time into Python Date time object using pandas' to_datetime() funtion. "
   ]
  },
  {
   "cell_type": "code",
   "execution_count": 23,
   "metadata": {},
   "outputs": [],
   "source": [
    "df1['premiered'] = pd.to_datetime(df1['premiered'], infer_datetime_format=True)  #Coverts string datetime into python date time object\n",
    "df1['Show_premiered'] = df1['premiered'].dt.year  #Column consists of years when the show was released"
   ]
  },
  {
   "cell_type": "markdown",
   "metadata": {},
   "source": [
    "The string date time is converted into python date time object. The column **\"premiered\"** consists of values in **datetime64** datatype. \n",
    "\n",
    "The new column **\"Show_premiered\"** consists of the years when the resepctive show was released. \n",
    "\n"
   ]
  },
  {
   "cell_type": "markdown",
   "metadata": {},
   "source": [
    "**<font color='Red'>Final Check for missing values:</font>**\n",
    "\n",
    "To check if all the values are updated and if any column still has missing values.\n"
   ]
  },
  {
   "cell_type": "code",
   "execution_count": 24,
   "metadata": {},
   "outputs": [
    {
     "name": "stdout",
     "output_type": "stream",
     "text": [
      "\n",
      " No null values in name column\n",
      "\n",
      " No null values in type column\n",
      "\n",
      " No null values in language column\n",
      "\n",
      " No null values in genres column\n",
      "\n",
      " No null values in status column\n",
      "\n",
      " No null values in premiered column\n",
      "\n",
      " No null values in Show_network column\n",
      "\n",
      " No null values in Show_rating_round column\n",
      "\n",
      " No null values in Show_premiered column\n"
     ]
    }
   ],
   "source": [
    "x = df1.isnull().sum()\n",
    "for i,j in x.items():\n",
    "    if j == 0:\n",
    "        print(\"\\n No null values in\", i , \"column\")  #to check if any column still have null values"
   ]
  },
  {
   "cell_type": "markdown",
   "metadata": {},
   "source": [
    "**<font color='Red'>Saving the cleaned dataset:</font>**\n",
    "\n",
    "The cleaned dataset will be saved in a new CSV file. The new CSV file named **\"tvmazedata_cleaned.csv\"**"
   ]
  },
  {
   "cell_type": "code",
   "execution_count": 25,
   "metadata": {},
   "outputs": [
    {
     "name": "stdout",
     "output_type": "stream",
     "text": [
      "\n",
      " The file is saved as tvmazedata_cleaned.csv \n",
      "\n"
     ]
    }
   ],
   "source": [
    "df1.to_csv(\"tvmazedata_cleaned.csv\", encoding='utf-8', index=False)\n",
    "print(\"\\n The file is saved as tvmazedata_cleaned.csv \\n\")"
   ]
  },
  {
   "cell_type": "markdown",
   "metadata": {},
   "source": [
    "## Data Analysis"
   ]
  },
  {
   "cell_type": "markdown",
   "metadata": {},
   "source": [
    "**<font color='Red'>Loading The cleaned dataset:</font>**\n",
    "\n"
   ]
  },
  {
   "cell_type": "code",
   "execution_count": 26,
   "metadata": {},
   "outputs": [
    {
     "data": {
      "text/html": [
       "<div>\n",
       "<style scoped>\n",
       "    .dataframe tbody tr th:only-of-type {\n",
       "        vertical-align: middle;\n",
       "    }\n",
       "\n",
       "    .dataframe tbody tr th {\n",
       "        vertical-align: top;\n",
       "    }\n",
       "\n",
       "    .dataframe thead th {\n",
       "        text-align: right;\n",
       "    }\n",
       "</style>\n",
       "<table border=\"1\" class=\"dataframe\">\n",
       "  <thead>\n",
       "    <tr style=\"text-align: right;\">\n",
       "      <th></th>\n",
       "      <th>name</th>\n",
       "      <th>type</th>\n",
       "      <th>language</th>\n",
       "      <th>genres</th>\n",
       "      <th>status</th>\n",
       "      <th>runtime</th>\n",
       "      <th>premiered</th>\n",
       "      <th>Show_network</th>\n",
       "      <th>Show_rating_round</th>\n",
       "      <th>Show_premiered</th>\n",
       "    </tr>\n",
       "  </thead>\n",
       "  <tbody>\n",
       "    <tr>\n",
       "      <th>0</th>\n",
       "      <td>Under the Dome</td>\n",
       "      <td>Scripted</td>\n",
       "      <td>English</td>\n",
       "      <td>['Drama', 'Science-Fiction', 'Thriller']</td>\n",
       "      <td>Ended</td>\n",
       "      <td>60.0</td>\n",
       "      <td>2013-06-24</td>\n",
       "      <td>CBS</td>\n",
       "      <td>6.0</td>\n",
       "      <td>2013</td>\n",
       "    </tr>\n",
       "    <tr>\n",
       "      <th>1</th>\n",
       "      <td>Person of Interest</td>\n",
       "      <td>Scripted</td>\n",
       "      <td>English</td>\n",
       "      <td>['Action', 'Crime', 'Science-Fiction']</td>\n",
       "      <td>Ended</td>\n",
       "      <td>60.0</td>\n",
       "      <td>2011-09-22</td>\n",
       "      <td>CBS</td>\n",
       "      <td>9.0</td>\n",
       "      <td>2011</td>\n",
       "    </tr>\n",
       "    <tr>\n",
       "      <th>2</th>\n",
       "      <td>Bitten</td>\n",
       "      <td>Scripted</td>\n",
       "      <td>English</td>\n",
       "      <td>['Drama', 'Horror', 'Romance']</td>\n",
       "      <td>Ended</td>\n",
       "      <td>60.0</td>\n",
       "      <td>2014-01-11</td>\n",
       "      <td>CTV Sci-Fi Channel</td>\n",
       "      <td>8.0</td>\n",
       "      <td>2014</td>\n",
       "    </tr>\n",
       "    <tr>\n",
       "      <th>3</th>\n",
       "      <td>Arrow</td>\n",
       "      <td>Scripted</td>\n",
       "      <td>English</td>\n",
       "      <td>['Drama', 'Action', 'Science-Fiction']</td>\n",
       "      <td>Ended</td>\n",
       "      <td>60.0</td>\n",
       "      <td>2012-10-10</td>\n",
       "      <td>The CW</td>\n",
       "      <td>7.0</td>\n",
       "      <td>2012</td>\n",
       "    </tr>\n",
       "    <tr>\n",
       "      <th>4</th>\n",
       "      <td>True Detective</td>\n",
       "      <td>Scripted</td>\n",
       "      <td>English</td>\n",
       "      <td>['Drama', 'Crime', 'Thriller']</td>\n",
       "      <td>To Be Determined</td>\n",
       "      <td>60.0</td>\n",
       "      <td>2014-01-12</td>\n",
       "      <td>HBO</td>\n",
       "      <td>8.0</td>\n",
       "      <td>2014</td>\n",
       "    </tr>\n",
       "  </tbody>\n",
       "</table>\n",
       "</div>"
      ],
      "text/plain": [
       "                 name      type language  \\\n",
       "0      Under the Dome  Scripted  English   \n",
       "1  Person of Interest  Scripted  English   \n",
       "2              Bitten  Scripted  English   \n",
       "3               Arrow  Scripted  English   \n",
       "4      True Detective  Scripted  English   \n",
       "\n",
       "                                     genres            status  runtime  \\\n",
       "0  ['Drama', 'Science-Fiction', 'Thriller']             Ended     60.0   \n",
       "1    ['Action', 'Crime', 'Science-Fiction']             Ended     60.0   \n",
       "2            ['Drama', 'Horror', 'Romance']             Ended     60.0   \n",
       "3    ['Drama', 'Action', 'Science-Fiction']             Ended     60.0   \n",
       "4            ['Drama', 'Crime', 'Thriller']  To Be Determined     60.0   \n",
       "\n",
       "    premiered        Show_network  Show_rating_round  Show_premiered  \n",
       "0  2013-06-24                 CBS                6.0            2013  \n",
       "1  2011-09-22                 CBS                9.0            2011  \n",
       "2  2014-01-11  CTV Sci-Fi Channel                8.0            2014  \n",
       "3  2012-10-10              The CW                7.0            2012  \n",
       "4  2014-01-12                 HBO                8.0            2014  "
      ]
     },
     "execution_count": 26,
     "metadata": {},
     "output_type": "execute_result"
    }
   ],
   "source": [
    "df2 = pd.read_csv('tvmazedata_cleaned.csv', index_col=False)\n",
    "df2.head()"
   ]
  },
  {
   "cell_type": "markdown",
   "metadata": {},
   "source": [
    "The cleaned dataset contains 9 columns.\n",
    "\n",
    "**<font color='Red'>Dataset Features:</font>**\n",
    "\n",
    "\n",
    "\n",
    "- Name column consists of the name of the shows. \n",
    "- Type column consists of the the type of the show. For example, a show can be scripted.\n",
    "- Language column consists of the language of the show. for example, a show can be in english.\n",
    "- The genres column conists of the genres of the show. It contains a list of genres.\n",
    "- Status column consists of the status of the shows. For example, a show might have ended.\n",
    "- Runtime column consists of the runtime of the show in minutes.\n",
    "- Premiered volumn conists of the exact date when the show was premiered.\n",
    "- Show_network column consists of the network to which the show belongs.\n",
    "- Show_rating_round conisists of the rounded off rating of the show. It has been rounded off for convince.\n",
    "- Show_premiered column consist of the year when the show was premiered (Pythons's Date Time Format)."
   ]
  },
  {
   "cell_type": "code",
   "execution_count": 68,
   "metadata": {},
   "outputs": [
    {
     "name": "stdout",
     "output_type": "stream",
     "text": [
      "\n",
      " Cleaned columns:\n",
      "Index(['name', 'type', 'language', 'genres', 'status', 'runtime', 'premiered',\n",
      "       'Show_network', 'Show_rating_round', 'Show_premiered'],\n",
      "      dtype='object')\n",
      "\n",
      "\n",
      " Data Frame Descriptive Stats:\n",
      "\n",
      "          runtime  Show_rating_round  Show_premiered\n",
      "count  238.000000         240.000000      240.000000\n",
      "mean    52.109244           7.704167     2010.500000\n",
      "std     14.820325           0.781576        4.703778\n",
      "min     25.000000           5.000000     1989.000000\n",
      "25%     30.000000           7.000000     2009.000000\n",
      "50%     60.000000           8.000000     2012.000000\n",
      "75%     60.000000           8.000000     2014.000000\n",
      "max    120.000000           9.000000     2014.000000\n"
     ]
    }
   ],
   "source": [
    "print(\"\\n Cleaned columns:\\n\" + str(df2.columns) + \"\\n\")\n",
    "print(\"\\n Data Frame Descriptive Stats:\\n\")\n",
    "print(df2.describe())"
   ]
  },
  {
   "cell_type": "code",
   "execution_count": 69,
   "metadata": {},
   "outputs": [
    {
     "data": {
      "text/plain": [
       "Index(['name', 'type', 'language', 'genres', 'status', 'runtime', 'premiered',\n",
       "       'Show_network', 'Show_rating_round', 'Show_premiered'],\n",
       "      dtype='object')"
      ]
     },
     "execution_count": 69,
     "metadata": {},
     "output_type": "execute_result"
    }
   ],
   "source": [
    "df2.columns"
   ]
  },
  {
   "cell_type": "code",
   "execution_count": 66,
   "metadata": {},
   "outputs": [
    {
     "data": {
      "text/html": [
       "<div>\n",
       "<style scoped>\n",
       "    .dataframe tbody tr th:only-of-type {\n",
       "        vertical-align: middle;\n",
       "    }\n",
       "\n",
       "    .dataframe tbody tr th {\n",
       "        vertical-align: top;\n",
       "    }\n",
       "\n",
       "    .dataframe thead th {\n",
       "        text-align: right;\n",
       "    }\n",
       "</style>\n",
       "<table border=\"1\" class=\"dataframe\">\n",
       "  <thead>\n",
       "    <tr style=\"text-align: right;\">\n",
       "      <th></th>\n",
       "      <th>runtime</th>\n",
       "      <th>Show_rating_round</th>\n",
       "      <th>Show_premiered</th>\n",
       "    </tr>\n",
       "  </thead>\n",
       "  <tbody>\n",
       "    <tr>\n",
       "      <th>count</th>\n",
       "      <td>238.000000</td>\n",
       "      <td>240.000000</td>\n",
       "      <td>240.000000</td>\n",
       "    </tr>\n",
       "    <tr>\n",
       "      <th>mean</th>\n",
       "      <td>52.109244</td>\n",
       "      <td>7.704167</td>\n",
       "      <td>2010.500000</td>\n",
       "    </tr>\n",
       "    <tr>\n",
       "      <th>std</th>\n",
       "      <td>14.820325</td>\n",
       "      <td>0.781576</td>\n",
       "      <td>4.703778</td>\n",
       "    </tr>\n",
       "    <tr>\n",
       "      <th>min</th>\n",
       "      <td>25.000000</td>\n",
       "      <td>5.000000</td>\n",
       "      <td>1989.000000</td>\n",
       "    </tr>\n",
       "    <tr>\n",
       "      <th>25%</th>\n",
       "      <td>30.000000</td>\n",
       "      <td>7.000000</td>\n",
       "      <td>2009.000000</td>\n",
       "    </tr>\n",
       "    <tr>\n",
       "      <th>50%</th>\n",
       "      <td>60.000000</td>\n",
       "      <td>8.000000</td>\n",
       "      <td>2012.000000</td>\n",
       "    </tr>\n",
       "    <tr>\n",
       "      <th>75%</th>\n",
       "      <td>60.000000</td>\n",
       "      <td>8.000000</td>\n",
       "      <td>2014.000000</td>\n",
       "    </tr>\n",
       "    <tr>\n",
       "      <th>max</th>\n",
       "      <td>120.000000</td>\n",
       "      <td>9.000000</td>\n",
       "      <td>2014.000000</td>\n",
       "    </tr>\n",
       "  </tbody>\n",
       "</table>\n",
       "</div>"
      ],
      "text/plain": [
       "          runtime  Show_rating_round  Show_premiered\n",
       "count  238.000000         240.000000      240.000000\n",
       "mean    52.109244           7.704167     2010.500000\n",
       "std     14.820325           0.781576        4.703778\n",
       "min     25.000000           5.000000     1989.000000\n",
       "25%     30.000000           7.000000     2009.000000\n",
       "50%     60.000000           8.000000     2012.000000\n",
       "75%     60.000000           8.000000     2014.000000\n",
       "max    120.000000           9.000000     2014.000000"
      ]
     },
     "execution_count": 66,
     "metadata": {},
     "output_type": "execute_result"
    }
   ],
   "source": [
    "df2.describe()"
   ]
  },
  {
   "cell_type": "code",
   "execution_count": 70,
   "metadata": {},
   "outputs": [
    {
     "name": "stdout",
     "output_type": "stream",
     "text": [
      "<class 'pandas.core.frame.DataFrame'>\n",
      "RangeIndex: 240 entries, 0 to 239\n",
      "Data columns (total 10 columns):\n",
      " #   Column             Non-Null Count  Dtype         \n",
      "---  ------             --------------  -----         \n",
      " 0   name               240 non-null    object        \n",
      " 1   type               240 non-null    object        \n",
      " 2   language           240 non-null    object        \n",
      " 3   genres             240 non-null    object        \n",
      " 4   status             240 non-null    object        \n",
      " 5   runtime            238 non-null    float64       \n",
      " 6   premiered          240 non-null    datetime64[ns]\n",
      " 7   Show_network       240 non-null    object        \n",
      " 8   Show_rating_round  240 non-null    float64       \n",
      " 9   Show_premiered     240 non-null    int64         \n",
      "dtypes: datetime64[ns](1), float64(2), int64(1), object(6)\n",
      "memory usage: 18.9+ KB\n"
     ]
    }
   ],
   "source": [
    "df2.info()"
   ]
  },
  {
   "cell_type": "markdown",
   "metadata": {},
   "source": [
    "## Catagorical Features: \n",
    "\n",
    "**<font color='Red'>Type:</font>**\n",
    "\n",
    "\n",
    "Each show will fall in one of the 4 categories.\n",
    "\n",
    "- Scripted\n",
    "- Animation\n",
    "- Reality\n",
    "- Talk Show\n",
    "- Documentary \n",
    "\n",
    "\n"
   ]
  },
  {
   "cell_type": "code",
   "execution_count": 28,
   "metadata": {},
   "outputs": [
    {
     "data": {
      "text/plain": [
       "Scripted       212\n",
       "Animation       14\n",
       "Reality         10\n",
       "Talk Show        3\n",
       "Documentary      1\n",
       "Name: type, dtype: int64"
      ]
     },
     "execution_count": 28,
     "metadata": {},
     "output_type": "execute_result"
    }
   ],
   "source": [
    "df2[\"type\"].value_counts()"
   ]
  },
  {
   "cell_type": "markdown",
   "metadata": {},
   "source": [
    "**<font color='Red'>Language:</font>**\n",
    "\n",
    "There are 2 languages. Each show will have one of these language.\n",
    "\n",
    "- English\n",
    "- Japanese \n",
    "\n",
    "\n",
    "\n"
   ]
  },
  {
   "cell_type": "code",
   "execution_count": 29,
   "metadata": {},
   "outputs": [
    {
     "data": {
      "text/plain": [
       "English     236\n",
       "Japanese      4\n",
       "Name: language, dtype: int64"
      ]
     },
     "execution_count": 29,
     "metadata": {},
     "output_type": "execute_result"
    }
   ],
   "source": [
    "df2[\"language\"].value_counts()"
   ]
  },
  {
   "cell_type": "markdown",
   "metadata": {},
   "source": [
    "**<font color='Red'>Status:</font>**\n",
    "\n",
    "There are 3 status. Each show will have one of these status.\n",
    "\n",
    "- Ended\n",
    "- Running\n",
    "- To be determined\n",
    "\n"
   ]
  },
  {
   "cell_type": "code",
   "execution_count": 30,
   "metadata": {},
   "outputs": [
    {
     "data": {
      "text/plain": [
       "Ended               203\n",
       "Running              34\n",
       "To Be Determined      3\n",
       "Name: status, dtype: int64"
      ]
     },
     "execution_count": 30,
     "metadata": {},
     "output_type": "execute_result"
    }
   ],
   "source": [
    "df2[\"status\"].value_counts()"
   ]
  },
  {
   "cell_type": "markdown",
   "metadata": {},
   "source": [
    "**<font color='Red'>Runtime:</font>**\n",
    "\n",
    "Each show will have one of the following runtime:\n",
    "\n",
    "- 60 minutes\n",
    "- 30 minutes\n",
    "- 50 minutes\n",
    "- 120 minutes\n",
    "- 25 minutes\n",
    "- 42 minutes\n",
    "- 28 minutes\n",
    "\n",
    "\n"
   ]
  },
  {
   "cell_type": "code",
   "execution_count": 31,
   "metadata": {},
   "outputs": [
    {
     "data": {
      "text/plain": [
       "60.0     168\n",
       "30.0      63\n",
       "120.0      2\n",
       "25.0       2\n",
       "50.0       2\n",
       "42.0       1\n",
       "Name: runtime, dtype: int64"
      ]
     },
     "execution_count": 31,
     "metadata": {},
     "output_type": "execute_result"
    }
   ],
   "source": [
    "df2[\"runtime\"].value_counts()"
   ]
  },
  {
   "cell_type": "markdown",
   "metadata": {},
   "source": [
    "**<font color='Red'>Show_rating_round:</font>**\n",
    "\n",
    "This column has been extracted from \"Show_rating\" that had continuous values. The values are rounded off and put in \"Show_rating_round\". Now, there are 5 catagories of rating:\n",
    "\n",
    "- 8\n",
    "- 7\n",
    "- 9\n",
    "- 6\n",
    "- 4\n",
    "\n",
    "The shows have individual ratings.\n",
    "\n"
   ]
  },
  {
   "cell_type": "code",
   "execution_count": 32,
   "metadata": {},
   "outputs": [
    {
     "data": {
      "text/plain": [
       "8.0    137\n",
       "7.0     59\n",
       "9.0     26\n",
       "6.0     16\n",
       "5.0      2\n",
       "Name: Show_rating_round, dtype: int64"
      ]
     },
     "execution_count": 32,
     "metadata": {},
     "output_type": "execute_result"
    }
   ],
   "source": [
    "df2[\"Show_rating_round\"].value_counts()"
   ]
  },
  {
   "cell_type": "markdown",
   "metadata": {},
   "source": [
    "## Data Visualisation and Summary:"
   ]
  },
  {
   "cell_type": "markdown",
   "metadata": {},
   "source": [
    "\n",
    "The **\"Show_network\"** contains the name of networks. There are 44 distinct networks for each show. Each show will belong to one of these network. Our aim is to find the network that has the maximum number of shows."
   ]
  },
  {
   "cell_type": "code",
   "execution_count": 33,
   "metadata": {},
   "outputs": [
    {
     "data": {
      "text/plain": [
       "Text(0.5, 1.0, 'Show networks vs the number of shows for individual networks')"
      ]
     },
     "execution_count": 33,
     "metadata": {},
     "output_type": "execute_result"
    },
    {
     "data": {
      "image/png": "[encoded data removed]",
      "text/plain": [
       "<Figure size 1800x1440 with 1 Axes>"
      ]
     },
     "metadata": {
      "needs_background": "light"
     },
     "output_type": "display_data"
    }
   ],
   "source": [
    "counts = df2[\"Show_network\"].value_counts() \n",
    "p = counts.sort_values().plot.barh(figsize=(25,20), fontsize=18) \n",
    "p.set_xlabel(\"Number of Shows\",fontsize=18) \n",
    "p.set_ylabel(\"Networks\",fontsize=18)\n",
    "p.set_title(\"Show networks vs the number of shows for individual networks\", fontsize=20)"
   ]
  },
  {
   "cell_type": "markdown",
   "metadata": {},
   "source": [
    "Maximum number of shows are from **\"CBS\"** which is **29** out of 240 shows. After that **\"ABC\"** has the maximum number of shows which is **27**.\n",
    "\n"
   ]
  },
  {
   "cell_type": "markdown",
   "metadata": {},
   "source": [
    "Now we want to see what rating most shows have. For this, **\"Show_rating_round\"** column is used that contains ratings that are rounded off."
   ]
  },
  {
   "cell_type": "code",
   "execution_count": 34,
   "metadata": {},
   "outputs": [
    {
     "data": {
      "text/plain": [
       "Text(0.5, 1.0, 'Percentage of shows for different ratings')"
      ]
     },
     "execution_count": 34,
     "metadata": {},
     "output_type": "execute_result"
    },
    {
     "data": {
      "image/png": "[encoded data removed]",
      "text/plain": [
       "<Figure size 2880x720 with 1 Axes>"
      ]
     },
     "metadata": {},
     "output_type": "display_data"
    }
   ],
   "source": [
    "network = df2[(df2[\"Show_network\"] == \"CBS\")]\n",
    "counts = network[\"Show_rating_round\"].value_counts() \n",
    "plot = counts.plot.pie(figsize=(40, 10), autopct='%.2f%%', fontsize=14, legend = True, table = True, labels=None)\n",
    "plot.set_title(\"Percentage of shows for different ratings\",fontsize= 18, fontname=\"Arial\", fontweight = \"bold\")\n"
   ]
  },
  {
   "cell_type": "markdown",
   "metadata": {},
   "source": [
    "We can see that **55.17%** of the shows in CBS have a rating of **8** and only **10.34%** have a rating of **9**. \n",
    "- Maximum shows on CBS have a rating (rounded off) of 8. The number of shows is 16. \n",
    "- Least number of shows have a raiting (rounded off) of 9. The number of shows is 3.\n",
    "\n",
    "Now we will find the shows that has highest runtime, and has a rating of 8."
   ]
  },
  {
   "cell_type": "code",
   "execution_count": 35,
   "metadata": {},
   "outputs": [
    {
     "data": {
      "text/plain": [
       "Text(0.5, 1.0, 'Runtime of shows in CBS with rating 8')"
      ]
     },
     "execution_count": 35,
     "metadata": {},
     "output_type": "execute_result"
    },
    {
     "data": {
      "image/png": "[encoded data removed]",
      "text/plain": [
       "<Figure size 432x360 with 1 Axes>"
      ]
     },
     "metadata": {
      "needs_background": "light"
     },
     "output_type": "display_data"
    }
   ],
   "source": [
    "network = df2[(df2[\"Show_network\"] == \"CBS\")&(df2[\"Show_rating_round\"] == 8)]\n",
    "counts = network[\"runtime\"].value_counts() \n",
    "p = counts.plot.bar(figsize=(6,5), fontsize=14) \n",
    "p.set_xlabel(\"Runtime\",fontsize=14) \n",
    "p.set_ylabel(\"Number of Shows\",fontsize=14)\n",
    "p.set_title(\"Runtime of shows in CBS with rating 8\", fontsize=14)"
   ]
  },
  {
   "cell_type": "markdown",
   "metadata": {},
   "source": [
    "- There are 13 shows from CBS with rating 8 that have a runtime of 60 minutes. \n",
    "- The rest 3 shows have a runtime of 30 minutes.\n",
    "\n",
    "We can list the shows with runtime of 60 and 30 minutes respectively."
   ]
  },
  {
   "cell_type": "code",
   "execution_count": 36,
   "metadata": {},
   "outputs": [
    {
     "name": "stdout",
     "output_type": "stream",
     "text": [
      "The CBS Shows with runtime of 60 minutes and rating of 8 are: \n",
      "\n",
      "-> The Amazing Race\n",
      "-> Hawaii Five-0\n",
      "-> NCIS: New Orleans\n",
      "-> Madam Secretary\n",
      "-> NCIS\n",
      "-> NCIS: Los Angeles\n",
      "-> Criminal Minds\n",
      "-> Stalker\n",
      "-> Blue Bloods\n",
      "-> The Good Wife\n",
      "-> CSI: Crime Scene Investigation\n",
      "-> Survivor\n",
      "-> The Mentalist\n",
      "-> Elementary\n",
      "-> Vegas\n"
     ]
    }
   ],
   "source": [
    "network = df2.loc[((df2[\"Show_network\"] == \"CBS\")&(df2[\"Show_rating_round\"] == 8)&(df2[\"runtime\"]==60)), 'name']\n",
    "\n",
    "print(\"The CBS Shows with runtime of 60 minutes and rating of 8 are: \\n\")\n",
    "for i in network:\n",
    "    print(\"->\", i)"
   ]
  },
  {
   "cell_type": "code",
   "execution_count": 37,
   "metadata": {},
   "outputs": [
    {
     "name": "stdout",
     "output_type": "stream",
     "text": [
      "The CBS Shows with runtime of 30 minutes and rating of 8 are: \n",
      "\n",
      "-> The Big Bang Theory\n",
      "-> Mom\n",
      "-> How I Met Your Mother\n"
     ]
    }
   ],
   "source": [
    "network_2 = df2.loc[((df2[\"Show_network\"] == \"CBS\")&(df2[\"Show_rating_round\"] == 8)&(df2[\"runtime\"]==30)), 'name']\n",
    "\n",
    "print(\"The CBS Shows with runtime of 30 minutes and rating of 8 are: \\n\")\n",
    "for i in network_2:\n",
    "    print(\"->\", i)"
   ]
  },
  {
   "cell_type": "markdown",
   "metadata": {},
   "source": [
    "The **\"status\"** feature consists of the status of the shows. The show may be running, ended or to be determined."
   ]
  },
  {
   "cell_type": "code",
   "execution_count": 38,
   "metadata": {},
   "outputs": [
    {
     "name": "stdout",
     "output_type": "stream",
     "text": [
      "The type of shows:\n",
      "Ended               203\n",
      "Running              34\n",
      "To Be Determined      3\n",
      "Name: status, dtype: int64\n"
     ]
    }
   ],
   "source": [
    "print(\"The type of shows:\")\n",
    "print(df2[\"status\"].value_counts())"
   ]
  },
  {
   "cell_type": "markdown",
   "metadata": {},
   "source": [
    "There is only one show that has the status **\"To be Determined\"**. "
   ]
  },
  {
   "cell_type": "code",
   "execution_count": 39,
   "metadata": {},
   "outputs": [
    {
     "name": "stdout",
     "output_type": "stream",
     "text": [
      "The show with status to be determined \n",
      "\n",
      "-> True Detective\n",
      "-> Fargo\n",
      "-> The Knick\n"
     ]
    }
   ],
   "source": [
    "status = df2.loc[(df2[\"status\"] == \"To Be Determined\"), 'name']\n",
    "print(\"The show with status to be determined \\n\")\n",
    "for i in status:\n",
    "    print(\"->\", i)"
   ]
  },
  {
   "cell_type": "markdown",
   "metadata": {},
   "source": [
    "**196** shows have the status ended. This is because they have ended and no new seasons are releasing. Now, we are interested to know which network has the maximum number of highest rated shows with status ended."
   ]
  },
  {
   "cell_type": "code",
   "execution_count": 40,
   "metadata": {},
   "outputs": [
    {
     "data": {
      "text/plain": [
       "Text(0.5, 1.0, 'Network with shows that have ended')"
      ]
     },
     "execution_count": 40,
     "metadata": {},
     "output_type": "execute_result"
    },
    {
     "data": {
      "image/png": "[encoded data removed]",
      "text/plain": [
       "<Figure size 720x360 with 1 Axes>"
      ]
     },
     "metadata": {
      "needs_background": "light"
     },
     "output_type": "display_data"
    }
   ],
   "source": [
    "rat_lang = df2[(df2[\"Show_rating_round\"] == 9) & (df2[\"status\"] == \"Ended\")]\n",
    "counts = rat_lang[\"Show_network\"].value_counts() \n",
    "p = counts.sort_values().plot.barh(figsize=(10,5), fontsize=12, color = \"orange\") \n",
    "p.set_xlabel(\"Number of shows\",fontsize=16) \n",
    "p.set_ylabel(\"Networks\",fontsize=16)\n",
    "p.set_title(\"Network with shows that have ended\", fontsize = 18)\n"
   ]
  },
  {
   "cell_type": "markdown",
   "metadata": {},
   "source": [
    "HBO has the 5 shows with rating of 9 (maximum rating) and have ended. After that FOX has 4 shows, with rating of 9 and have ended.\n",
    "\n",
    "Cinemax, CTV Sci-Fi Channel, Channel 4, NBC and Nickelodeon has the least number of shows, i.e. 1 show, which rating of 9 and has ended.\n",
    "\n",
    "We can get the list of all the 5 HBO shows."
   ]
  },
  {
   "cell_type": "code",
   "execution_count": 41,
   "metadata": {},
   "outputs": [
    {
     "name": "stdout",
     "output_type": "stream",
     "text": [
      "HBO shows with rating 9 that have ended: \n",
      "\n",
      "-> Game of Thrones\n",
      "-> The Newsroom\n",
      "-> The Wire\n"
     ]
    }
   ],
   "source": [
    "Net = df2.loc[(df2[\"Show_rating_round\"] == 9) & (df2[\"status\"] == \"Ended\")&(df2[\"Show_network\"] == \"HBO\"), 'name']\n",
    "print(\"HBO shows with rating 9 that have ended: \\n\")\n",
    "for i in Net:\n",
    "    print(\"->\", i)"
   ]
  },
  {
   "cell_type": "markdown",
   "metadata": {},
   "source": [
    "The shows in the dataset can have one of the two languages, English and Japanese. 4 shows have Japanese langauge and 235 shows have English language. \n"
   ]
  },
  {
   "cell_type": "code",
   "execution_count": 42,
   "metadata": {},
   "outputs": [
    {
     "name": "stdout",
     "output_type": "stream",
     "text": [
      "Shows with Japanese language: \n",
      "\n",
      "-> Hellsing\n",
      "-> Hellsing Ultimate\n",
      "-> Berserk\n",
      "-> Death Note\n"
     ]
    }
   ],
   "source": [
    "lang = df2.loc[(df2[\"language\"] == \"Japanese\"), 'name']\n",
    "print(\"Shows with Japanese language: \\n\")\n",
    "for i in lang:\n",
    "    print(\"->\", i)"
   ]
  },
  {
   "cell_type": "markdown",
   "metadata": {},
   "source": [
    "These are 4 Japanese shows."
   ]
  },
  {
   "cell_type": "code",
   "execution_count": 43,
   "metadata": {},
   "outputs": [
    {
     "data": {
      "text/plain": [
       "Text(0.5, 1.0, 'Premiered dates for the Japanese shows')"
      ]
     },
     "execution_count": 43,
     "metadata": {},
     "output_type": "execute_result"
    },
    {
     "data": {
      "image/png": "[encoded data removed]",
      "text/plain": [
       "<Figure size 1440x360 with 3 Axes>"
      ]
     },
     "metadata": {
      "needs_background": "light"
     },
     "output_type": "display_data"
    }
   ],
   "source": [
    "lang = df2[(df2[\"language\"] == \"Japanese\")]\n",
    "f, (ax1, ax2, ax3) = plt.subplots(1, 3, sharey=False)\n",
    "f.set_figheight(5)\n",
    "f.set_figwidth(20)\n",
    "ax1.bar(lang[\"name\"],lang[\"runtime\"])\n",
    "ax1.set_ylabel(\"Runtime\")\n",
    "ax1.set_xlabel(\"Japanese Shows\")\n",
    "ax1.set_title(\"Runtime of Japanese Shows\")\n",
    "\n",
    "plt.ylim(1980,2007)\n",
    "ax2.bar(lang[\"name\"],lang[\"Show_rating_round\"], color = \"red\")\n",
    "ax2.set_ylabel(\"Rating\")\n",
    "ax2.set_xlabel(\"Japanese Shows\")\n",
    "ax2.set_title(\"Rating of the Japanese Shows\")\n",
    "\n",
    "ax3.bar(lang[\"name\"],lang[\"Show_premiered\"], color = \"orange\")\n",
    "ax3.set_ylabel(\"Premiered Year\")\n",
    "ax3.set_xlabel(\"Japanese Shows\")\n",
    "ax3.set_title(\"Premiered dates for the Japanese shows\")"
   ]
  },
  {
   "cell_type": "markdown",
   "metadata": {},
   "source": [
    "We have plotted three bar graphs for the Japanese shows.\n",
    "\n",
    "- **Japnese Shows VS Runtime:** We can see that the maximum runtime is 50 minutes and the minimum runtime is 25 minutes. \"Hellsing Ultimate\" has the maximum runtime and \"Berserk\" has minimum runtime.\n",
    "- **Japnese Shows VS Ratings:** We can see that the shows have on of the two ratings, 8 or 9. \"Hellsing\" and \"Hellsing Ultimate have a rating of 8, whereas \"Beserk\" and \"Death Note\" has a rating of 9.\n",
    "- **Japnese Shows VS Premiered Years:** We can see that out of these 4 shows, the show that was released the first was \"Berserk\" in 1997. \"Hellsing Ultimate\" and \"Death Note\" were released in 2006.\n"
   ]
  },
  {
   "cell_type": "markdown",
   "metadata": {},
   "source": [
    "Now considering **English**, we will plot a plot for different type of shows."
   ]
  },
  {
   "cell_type": "code",
   "execution_count": 44,
   "metadata": {},
   "outputs": [
    {
     "data": {
      "text/plain": [
       "Text(0.5, 1.0, 'Type of shows vs number of shows')"
      ]
     },
     "execution_count": 44,
     "metadata": {},
     "output_type": "execute_result"
    },
    {
     "data": {
      "image/png": "[encoded data removed]",
      "text/plain": [
       "<Figure size 720x360 with 1 Axes>"
      ]
     },
     "metadata": {
      "needs_background": "light"
     },
     "output_type": "display_data"
    }
   ],
   "source": [
    "lang_2 = df2[(df2[\"language\"] == \"English\")]\n",
    "typ = lang_2[\"type\"].value_counts() \n",
    "p = typ.sort_values().plot.barh(figsize=(10,5), fontsize=14) \n",
    "p.set_xlabel(\"Number of shows\",fontsize=14) \n",
    "p.set_ylabel(\"Type of shows\",fontsize=14)\n",
    "p.set_title(\"Type of shows vs number of shows\", fontsize=14)"
   ]
  },
  {
   "cell_type": "markdown",
   "metadata": {},
   "source": [
    "Out of the 4 categories of the type of shows, most of the english shows are scripted. 212 english shows are Scripted and there are only 3 talk shows. \n",
    "\n",
    "Only one English show is a documentary."
   ]
  },
  {
   "cell_type": "code",
   "execution_count": 45,
   "metadata": {},
   "outputs": [
    {
     "name": "stdout",
     "output_type": "stream",
     "text": [
      "English Documentary Show: \n",
      "\n",
      "-> Long Shadow\n"
     ]
    }
   ],
   "source": [
    "lang_2 = df2.loc[(df2[\"language\"] == \"English\")&(df2[\"type\"] == \"Documentary\"), 'name']\n",
    "print(\"English Documentary Show: \\n\")\n",
    "for i in lang_2:\n",
    "    print(\"->\", i)\n"
   ]
  },
  {
   "cell_type": "markdown",
   "metadata": {},
   "source": [
    "Maximum englsih shows are scripted. This means that people prefer scripted shows over any other type of shows."
   ]
  },
  {
   "cell_type": "code",
   "execution_count": 46,
   "metadata": {},
   "outputs": [
    {
     "data": {
      "text/plain": [
       "Text(0.5, 1.0, 'Years vs Number of shows')"
      ]
     },
     "execution_count": 46,
     "metadata": {},
     "output_type": "execute_result"
    },
    {
     "data": {
      "image/png": "[encoded data removed]",
      "text/plain": [
       "<Figure size 720x360 with 1 Axes>"
      ]
     },
     "metadata": {
      "needs_background": "light"
     },
     "output_type": "display_data"
    }
   ],
   "source": [
    "lang_3 = df2[(df2[\"language\"] == \"English\")&(df2[\"type\"] == \"Scripted\")& (df2[\"Show_rating_round\"]  == 9)]\n",
    "date = lang_3[\"Show_premiered\"].value_counts()\n",
    "p = date.sort_values().plot.bar(figsize=(10,5), fontsize=14) \n",
    "p.set_xlabel(\"Years\",fontsize=14) \n",
    "p.set_ylabel(\"Number of shows\",fontsize=14)\n",
    "p.set_title(\"Years vs Number of shows\", fontsize=14)"
   ]
  },
  {
   "cell_type": "markdown",
   "metadata": {},
   "source": [
    "There are around 27 scripted shows that were rated 9. Out of these 27 shows, maximum shows were released in 2013. 5 shows were released in 2013.\n",
    "After that, the maximum number of shows were released in 2011, i.e. 4 shows."
   ]
  },
  {
   "cell_type": "markdown",
   "metadata": {},
   "source": [
    "Visualising **\"premiered\"** column using a histogram.\n",
    "This column contains the full date, including the day and the month, when the show was premiered."
   ]
  },
  {
   "cell_type": "code",
   "execution_count": 47,
   "metadata": {},
   "outputs": [
    {
     "data": {
      "image/png": "[encoded data removed]",
      "text/plain": [
       "<Figure size 720x576 with 1 Axes>"
      ]
     },
     "metadata": {
      "needs_background": "light"
     },
     "output_type": "display_data"
    }
   ],
   "source": [
    "df2['premiered'] = pd.to_datetime(df2['premiered'],infer_datetime_format=True)\n",
    "plt.clf()\n",
    "df2['premiered'].map(lambda d: d.year).plot(kind='hist',figsize=(10,8),color =\"red\")\n",
    "\n",
    "plt.grid(b=True, which='major', color='black', linestyle=':', alpha=0.4)\n",
    "\n",
    "plt.minorticks_on()\n",
    "plt.grid(b=True, which='minor', color='#999999', linestyle=':', alpha=0.2)\n",
    "\n",
    "plt.xlabel('Years', fontsize=16)\n",
    "plt.ylabel('Number of shows', fontsize=16)\n",
    "plt.title('Years VS Number of shows ', fontsize=16)\n",
    "\n",
    "\n",
    "\n",
    "plt.show()\n"
   ]
  },
  {
   "cell_type": "markdown",
   "metadata": {},
   "source": [
    "The peak is from the year 2011 to 2014. This is because the total number of shows released are around 143, which is maximum. This means that the networks released more shows as they were becoming popular in this period. \n",
    "From the year 1989 to 1992, the least number of shows were released.\n",
    "There are no shows from 1992 to 1996."
   ]
  },
  {
   "cell_type": "code",
   "execution_count": 48,
   "metadata": {},
   "outputs": [
    {
     "data": {
      "text/plain": [
       "Text(0.5, 1.0, 'Networks vs number of unique')"
      ]
     },
     "execution_count": 48,
     "metadata": {},
     "output_type": "execute_result"
    },
    {
     "data": {
      "image/png": "[encoded data removed]",
      "text/plain": [
       "<Figure size 720x720 with 1 Axes>"
      ]
     },
     "metadata": {
      "needs_background": "light"
     },
     "output_type": "display_data"
    }
   ],
   "source": [
    "p = df2.groupby('Show_network')['Show_rating_round'].nunique().sort_values().plot(kind='barh', figsize=(10,10), color=\"green\")\n",
    "p.set_xlabel(\"Number of unique ratings\", fontsize =12)\n",
    "p.set_ylabel(\"Networks\", fontsize=12)\n",
    "p.set_title(\"Networks vs number of unique\", fontsize=16)"
   ]
  },
  {
   "cell_type": "markdown",
   "metadata": {},
   "source": [
    "We get the number of unique rating for each network. The number of unique ratings is maximum for HBO, NBC,NBC and FOX. The maximum number of unique ratings any network can have for this data is 4. This means the shows from these networks have one of the 4 unique ratings. "
   ]
  },
  {
   "cell_type": "markdown",
   "metadata": {},
   "source": [
    "## Conclusion and Summary:"
   ]
  },
  {
   "cell_type": "markdown",
   "metadata": {},
   "source": [
    "Through our analysis, we can see which all shows are popular and which all networks have different shows. CBS network have the maximum number of shows, and miximum number of shows from CBS have been rated 8. It means most shows that have been released over the years are from CBS. Apart from that, we can see that the most of the shows run for 60 minutes. Maximum number of shows have ended, that means no new seasons for the shows are released. From our analysis, we can see that HBO have the maximum shows that have ended with a rating of 9. HBO has one of the most successful shows, Game of Thrones, which is highly rated and has ended. We can also see that most of the shows are scripted, we can infer that most people prefer scripted shows over other types of shows.\n",
    "\n",
    "**<font color='Red'>Futher Analysis:</font>**\n",
    "\n",
    "Futher we can also use the location to find what shows are popular in which regions and how do people choose what shows to watch. It can be related to the rating or runtime or genres. We can also analyse the avaergae age groups of people taht watch a perticular genre of shows. "
   ]
  },
  {
   "cell_type": "code",
   "execution_count": null,
   "metadata": {},
   "outputs": [],
   "source": []
  },
  {
   "cell_type": "code",
   "execution_count": null,
   "metadata": {},
   "outputs": [],
   "source": []
  }
 ],
 "metadata": {
  "kernelspec": {
   "display_name": "Python 3",
   "language": "python",
   "name": "python3"
  },
  "language_info": {
   "codemirror_mode": {
    "name": "ipython",
    "version": 3
   },
   "file_extension": ".py",
   "mimetype": "text/x-python",
   "name": "python",
   "nbconvert_exporter": "python",
   "pygments_lexer": "ipython3",
   "version": "3.7.1"
  }
 },
 "nbformat": 4,
 "nbformat_minor": 2
}
